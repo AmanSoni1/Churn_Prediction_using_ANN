{
 "cells": [
  {
   "cell_type": "code",
   "execution_count": 1,
   "id": "cb1cce34",
   "metadata": {},
   "outputs": [],
   "source": [
    "import numpy as np \n",
    "import pandas as pd"
   ]
  },
  {
   "cell_type": "code",
   "execution_count": 2,
   "id": "b8640287",
   "metadata": {},
   "outputs": [],
   "source": [
    "df = pd.read_csv('Churn_Modelling.csv')"
   ]
  },
  {
   "cell_type": "code",
   "execution_count": 3,
   "id": "81147696",
   "metadata": {},
   "outputs": [
    {
     "data": {
      "text/html": [
       "<div>\n",
       "<style scoped>\n",
       "    .dataframe tbody tr th:only-of-type {\n",
       "        vertical-align: middle;\n",
       "    }\n",
       "\n",
       "    .dataframe tbody tr th {\n",
       "        vertical-align: top;\n",
       "    }\n",
       "\n",
       "    .dataframe thead th {\n",
       "        text-align: right;\n",
       "    }\n",
       "</style>\n",
       "<table border=\"1\" class=\"dataframe\">\n",
       "  <thead>\n",
       "    <tr style=\"text-align: right;\">\n",
       "      <th></th>\n",
       "      <th>RowNumber</th>\n",
       "      <th>CustomerId</th>\n",
       "      <th>Surname</th>\n",
       "      <th>CreditScore</th>\n",
       "      <th>Geography</th>\n",
       "      <th>Gender</th>\n",
       "      <th>Age</th>\n",
       "      <th>Tenure</th>\n",
       "      <th>Balance</th>\n",
       "      <th>NumOfProducts</th>\n",
       "      <th>HasCrCard</th>\n",
       "      <th>IsActiveMember</th>\n",
       "      <th>EstimatedSalary</th>\n",
       "      <th>Exited</th>\n",
       "    </tr>\n",
       "  </thead>\n",
       "  <tbody>\n",
       "    <tr>\n",
       "      <th>0</th>\n",
       "      <td>1</td>\n",
       "      <td>15634602</td>\n",
       "      <td>Hargrave</td>\n",
       "      <td>619</td>\n",
       "      <td>France</td>\n",
       "      <td>Female</td>\n",
       "      <td>42</td>\n",
       "      <td>2</td>\n",
       "      <td>0.00</td>\n",
       "      <td>1</td>\n",
       "      <td>1</td>\n",
       "      <td>1</td>\n",
       "      <td>101348.88</td>\n",
       "      <td>1</td>\n",
       "    </tr>\n",
       "    <tr>\n",
       "      <th>1</th>\n",
       "      <td>2</td>\n",
       "      <td>15647311</td>\n",
       "      <td>Hill</td>\n",
       "      <td>608</td>\n",
       "      <td>Spain</td>\n",
       "      <td>Female</td>\n",
       "      <td>41</td>\n",
       "      <td>1</td>\n",
       "      <td>83807.86</td>\n",
       "      <td>1</td>\n",
       "      <td>0</td>\n",
       "      <td>1</td>\n",
       "      <td>112542.58</td>\n",
       "      <td>0</td>\n",
       "    </tr>\n",
       "    <tr>\n",
       "      <th>2</th>\n",
       "      <td>3</td>\n",
       "      <td>15619304</td>\n",
       "      <td>Onio</td>\n",
       "      <td>502</td>\n",
       "      <td>France</td>\n",
       "      <td>Female</td>\n",
       "      <td>42</td>\n",
       "      <td>8</td>\n",
       "      <td>159660.80</td>\n",
       "      <td>3</td>\n",
       "      <td>1</td>\n",
       "      <td>0</td>\n",
       "      <td>113931.57</td>\n",
       "      <td>1</td>\n",
       "    </tr>\n",
       "    <tr>\n",
       "      <th>3</th>\n",
       "      <td>4</td>\n",
       "      <td>15701354</td>\n",
       "      <td>Boni</td>\n",
       "      <td>699</td>\n",
       "      <td>France</td>\n",
       "      <td>Female</td>\n",
       "      <td>39</td>\n",
       "      <td>1</td>\n",
       "      <td>0.00</td>\n",
       "      <td>2</td>\n",
       "      <td>0</td>\n",
       "      <td>0</td>\n",
       "      <td>93826.63</td>\n",
       "      <td>0</td>\n",
       "    </tr>\n",
       "    <tr>\n",
       "      <th>4</th>\n",
       "      <td>5</td>\n",
       "      <td>15737888</td>\n",
       "      <td>Mitchell</td>\n",
       "      <td>850</td>\n",
       "      <td>Spain</td>\n",
       "      <td>Female</td>\n",
       "      <td>43</td>\n",
       "      <td>2</td>\n",
       "      <td>125510.82</td>\n",
       "      <td>1</td>\n",
       "      <td>1</td>\n",
       "      <td>1</td>\n",
       "      <td>79084.10</td>\n",
       "      <td>0</td>\n",
       "    </tr>\n",
       "  </tbody>\n",
       "</table>\n",
       "</div>"
      ],
      "text/plain": [
       "   RowNumber  CustomerId   Surname  CreditScore Geography  Gender  Age  \\\n",
       "0          1    15634602  Hargrave          619    France  Female   42   \n",
       "1          2    15647311      Hill          608     Spain  Female   41   \n",
       "2          3    15619304      Onio          502    France  Female   42   \n",
       "3          4    15701354      Boni          699    France  Female   39   \n",
       "4          5    15737888  Mitchell          850     Spain  Female   43   \n",
       "\n",
       "   Tenure    Balance  NumOfProducts  HasCrCard  IsActiveMember  \\\n",
       "0       2       0.00              1          1               1   \n",
       "1       1   83807.86              1          0               1   \n",
       "2       8  159660.80              3          1               0   \n",
       "3       1       0.00              2          0               0   \n",
       "4       2  125510.82              1          1               1   \n",
       "\n",
       "   EstimatedSalary  Exited  \n",
       "0        101348.88       1  \n",
       "1        112542.58       0  \n",
       "2        113931.57       1  \n",
       "3         93826.63       0  \n",
       "4         79084.10       0  "
      ]
     },
     "execution_count": 3,
     "metadata": {},
     "output_type": "execute_result"
    }
   ],
   "source": [
    "df.head()"
   ]
  },
  {
   "cell_type": "code",
   "execution_count": 4,
   "id": "70f90495",
   "metadata": {},
   "outputs": [],
   "source": [
    "df.drop(columns = ['RowNumber','CustomerId','Surname'],inplace=True)"
   ]
  },
  {
   "cell_type": "code",
   "execution_count": 5,
   "id": "af4ba1ee",
   "metadata": {},
   "outputs": [
    {
     "data": {
      "text/html": [
       "<div>\n",
       "<style scoped>\n",
       "    .dataframe tbody tr th:only-of-type {\n",
       "        vertical-align: middle;\n",
       "    }\n",
       "\n",
       "    .dataframe tbody tr th {\n",
       "        vertical-align: top;\n",
       "    }\n",
       "\n",
       "    .dataframe thead th {\n",
       "        text-align: right;\n",
       "    }\n",
       "</style>\n",
       "<table border=\"1\" class=\"dataframe\">\n",
       "  <thead>\n",
       "    <tr style=\"text-align: right;\">\n",
       "      <th></th>\n",
       "      <th>CreditScore</th>\n",
       "      <th>Geography</th>\n",
       "      <th>Gender</th>\n",
       "      <th>Age</th>\n",
       "      <th>Tenure</th>\n",
       "      <th>Balance</th>\n",
       "      <th>NumOfProducts</th>\n",
       "      <th>HasCrCard</th>\n",
       "      <th>IsActiveMember</th>\n",
       "      <th>EstimatedSalary</th>\n",
       "      <th>Exited</th>\n",
       "    </tr>\n",
       "  </thead>\n",
       "  <tbody>\n",
       "    <tr>\n",
       "      <th>0</th>\n",
       "      <td>619</td>\n",
       "      <td>France</td>\n",
       "      <td>Female</td>\n",
       "      <td>42</td>\n",
       "      <td>2</td>\n",
       "      <td>0.00</td>\n",
       "      <td>1</td>\n",
       "      <td>1</td>\n",
       "      <td>1</td>\n",
       "      <td>101348.88</td>\n",
       "      <td>1</td>\n",
       "    </tr>\n",
       "    <tr>\n",
       "      <th>1</th>\n",
       "      <td>608</td>\n",
       "      <td>Spain</td>\n",
       "      <td>Female</td>\n",
       "      <td>41</td>\n",
       "      <td>1</td>\n",
       "      <td>83807.86</td>\n",
       "      <td>1</td>\n",
       "      <td>0</td>\n",
       "      <td>1</td>\n",
       "      <td>112542.58</td>\n",
       "      <td>0</td>\n",
       "    </tr>\n",
       "    <tr>\n",
       "      <th>2</th>\n",
       "      <td>502</td>\n",
       "      <td>France</td>\n",
       "      <td>Female</td>\n",
       "      <td>42</td>\n",
       "      <td>8</td>\n",
       "      <td>159660.80</td>\n",
       "      <td>3</td>\n",
       "      <td>1</td>\n",
       "      <td>0</td>\n",
       "      <td>113931.57</td>\n",
       "      <td>1</td>\n",
       "    </tr>\n",
       "    <tr>\n",
       "      <th>3</th>\n",
       "      <td>699</td>\n",
       "      <td>France</td>\n",
       "      <td>Female</td>\n",
       "      <td>39</td>\n",
       "      <td>1</td>\n",
       "      <td>0.00</td>\n",
       "      <td>2</td>\n",
       "      <td>0</td>\n",
       "      <td>0</td>\n",
       "      <td>93826.63</td>\n",
       "      <td>0</td>\n",
       "    </tr>\n",
       "    <tr>\n",
       "      <th>4</th>\n",
       "      <td>850</td>\n",
       "      <td>Spain</td>\n",
       "      <td>Female</td>\n",
       "      <td>43</td>\n",
       "      <td>2</td>\n",
       "      <td>125510.82</td>\n",
       "      <td>1</td>\n",
       "      <td>1</td>\n",
       "      <td>1</td>\n",
       "      <td>79084.10</td>\n",
       "      <td>0</td>\n",
       "    </tr>\n",
       "  </tbody>\n",
       "</table>\n",
       "</div>"
      ],
      "text/plain": [
       "   CreditScore Geography  Gender  Age  Tenure    Balance  NumOfProducts  \\\n",
       "0          619    France  Female   42       2       0.00              1   \n",
       "1          608     Spain  Female   41       1   83807.86              1   \n",
       "2          502    France  Female   42       8  159660.80              3   \n",
       "3          699    France  Female   39       1       0.00              2   \n",
       "4          850     Spain  Female   43       2  125510.82              1   \n",
       "\n",
       "   HasCrCard  IsActiveMember  EstimatedSalary  Exited  \n",
       "0          1               1        101348.88       1  \n",
       "1          0               1        112542.58       0  \n",
       "2          1               0        113931.57       1  \n",
       "3          0               0         93826.63       0  \n",
       "4          1               1         79084.10       0  "
      ]
     },
     "execution_count": 5,
     "metadata": {},
     "output_type": "execute_result"
    }
   ],
   "source": [
    "df.head()"
   ]
  },
  {
   "cell_type": "code",
   "execution_count": 6,
   "id": "48c7bd45",
   "metadata": {},
   "outputs": [
    {
     "data": {
      "text/plain": [
       "France     5014\n",
       "Germany    2509\n",
       "Spain      2477\n",
       "Name: Geography, dtype: int64"
      ]
     },
     "execution_count": 6,
     "metadata": {},
     "output_type": "execute_result"
    }
   ],
   "source": [
    "df['Geography'].value_counts()"
   ]
  },
  {
   "cell_type": "code",
   "execution_count": 7,
   "id": "2df4557d",
   "metadata": {},
   "outputs": [
    {
     "data": {
      "text/plain": [
       "Male      5457\n",
       "Female    4543\n",
       "Name: Gender, dtype: int64"
      ]
     },
     "execution_count": 7,
     "metadata": {},
     "output_type": "execute_result"
    }
   ],
   "source": [
    "df['Gender'].value_counts()"
   ]
  },
  {
   "cell_type": "code",
   "execution_count": 8,
   "id": "0da4b31b",
   "metadata": {},
   "outputs": [],
   "source": [
    "df = pd.get_dummies(df,columns=['Geography','Gender'],drop_first=True)"
   ]
  },
  {
   "cell_type": "code",
   "execution_count": 9,
   "id": "f75bdc61",
   "metadata": {},
   "outputs": [
    {
     "data": {
      "text/html": [
       "<div>\n",
       "<style scoped>\n",
       "    .dataframe tbody tr th:only-of-type {\n",
       "        vertical-align: middle;\n",
       "    }\n",
       "\n",
       "    .dataframe tbody tr th {\n",
       "        vertical-align: top;\n",
       "    }\n",
       "\n",
       "    .dataframe thead th {\n",
       "        text-align: right;\n",
       "    }\n",
       "</style>\n",
       "<table border=\"1\" class=\"dataframe\">\n",
       "  <thead>\n",
       "    <tr style=\"text-align: right;\">\n",
       "      <th></th>\n",
       "      <th>CreditScore</th>\n",
       "      <th>Age</th>\n",
       "      <th>Tenure</th>\n",
       "      <th>Balance</th>\n",
       "      <th>NumOfProducts</th>\n",
       "      <th>HasCrCard</th>\n",
       "      <th>IsActiveMember</th>\n",
       "      <th>EstimatedSalary</th>\n",
       "      <th>Exited</th>\n",
       "      <th>Geography_Germany</th>\n",
       "      <th>Geography_Spain</th>\n",
       "      <th>Gender_Male</th>\n",
       "    </tr>\n",
       "  </thead>\n",
       "  <tbody>\n",
       "    <tr>\n",
       "      <th>0</th>\n",
       "      <td>619</td>\n",
       "      <td>42</td>\n",
       "      <td>2</td>\n",
       "      <td>0.00</td>\n",
       "      <td>1</td>\n",
       "      <td>1</td>\n",
       "      <td>1</td>\n",
       "      <td>101348.88</td>\n",
       "      <td>1</td>\n",
       "      <td>0</td>\n",
       "      <td>0</td>\n",
       "      <td>0</td>\n",
       "    </tr>\n",
       "    <tr>\n",
       "      <th>1</th>\n",
       "      <td>608</td>\n",
       "      <td>41</td>\n",
       "      <td>1</td>\n",
       "      <td>83807.86</td>\n",
       "      <td>1</td>\n",
       "      <td>0</td>\n",
       "      <td>1</td>\n",
       "      <td>112542.58</td>\n",
       "      <td>0</td>\n",
       "      <td>0</td>\n",
       "      <td>1</td>\n",
       "      <td>0</td>\n",
       "    </tr>\n",
       "    <tr>\n",
       "      <th>2</th>\n",
       "      <td>502</td>\n",
       "      <td>42</td>\n",
       "      <td>8</td>\n",
       "      <td>159660.80</td>\n",
       "      <td>3</td>\n",
       "      <td>1</td>\n",
       "      <td>0</td>\n",
       "      <td>113931.57</td>\n",
       "      <td>1</td>\n",
       "      <td>0</td>\n",
       "      <td>0</td>\n",
       "      <td>0</td>\n",
       "    </tr>\n",
       "    <tr>\n",
       "      <th>3</th>\n",
       "      <td>699</td>\n",
       "      <td>39</td>\n",
       "      <td>1</td>\n",
       "      <td>0.00</td>\n",
       "      <td>2</td>\n",
       "      <td>0</td>\n",
       "      <td>0</td>\n",
       "      <td>93826.63</td>\n",
       "      <td>0</td>\n",
       "      <td>0</td>\n",
       "      <td>0</td>\n",
       "      <td>0</td>\n",
       "    </tr>\n",
       "    <tr>\n",
       "      <th>4</th>\n",
       "      <td>850</td>\n",
       "      <td>43</td>\n",
       "      <td>2</td>\n",
       "      <td>125510.82</td>\n",
       "      <td>1</td>\n",
       "      <td>1</td>\n",
       "      <td>1</td>\n",
       "      <td>79084.10</td>\n",
       "      <td>0</td>\n",
       "      <td>0</td>\n",
       "      <td>1</td>\n",
       "      <td>0</td>\n",
       "    </tr>\n",
       "  </tbody>\n",
       "</table>\n",
       "</div>"
      ],
      "text/plain": [
       "   CreditScore  Age  Tenure    Balance  NumOfProducts  HasCrCard  \\\n",
       "0          619   42       2       0.00              1          1   \n",
       "1          608   41       1   83807.86              1          0   \n",
       "2          502   42       8  159660.80              3          1   \n",
       "3          699   39       1       0.00              2          0   \n",
       "4          850   43       2  125510.82              1          1   \n",
       "\n",
       "   IsActiveMember  EstimatedSalary  Exited  Geography_Germany  \\\n",
       "0               1        101348.88       1                  0   \n",
       "1               1        112542.58       0                  0   \n",
       "2               0        113931.57       1                  0   \n",
       "3               0         93826.63       0                  0   \n",
       "4               1         79084.10       0                  0   \n",
       "\n",
       "   Geography_Spain  Gender_Male  \n",
       "0                0            0  \n",
       "1                1            0  \n",
       "2                0            0  \n",
       "3                0            0  \n",
       "4                1            0  "
      ]
     },
     "execution_count": 9,
     "metadata": {},
     "output_type": "execute_result"
    }
   ],
   "source": [
    "df.head()"
   ]
  },
  {
   "cell_type": "code",
   "execution_count": 10,
   "id": "4ecf6189",
   "metadata": {},
   "outputs": [],
   "source": [
    "X = df.drop(columns=['Exited'])\n",
    "y = df['Exited'].values\n",
    "\n",
    "from sklearn.model_selection import train_test_split\n",
    "X_train,X_test,y_train,y_test = train_test_split(X,y,test_size=0.2,random_state=0)"
   ]
  },
  {
   "cell_type": "code",
   "execution_count": 11,
   "id": "a609d331",
   "metadata": {},
   "outputs": [],
   "source": [
    "from sklearn.preprocessing import StandardScaler\n",
    "scaler = StandardScaler()\n",
    "\n",
    "X_train_trf = scaler.fit_transform(X_train)\n",
    "X_test_trf = scaler.transform(X_test)"
   ]
  },
  {
   "cell_type": "code",
   "execution_count": 12,
   "id": "9d293d4d",
   "metadata": {},
   "outputs": [],
   "source": [
    "import tensorflow\n",
    "from tensorflow import keras\n",
    "from tensorflow.keras import Sequential \n",
    "from tensorflow.keras.layers import Dense"
   ]
  },
  {
   "cell_type": "code",
   "execution_count": 13,
   "id": "e3cc2849",
   "metadata": {},
   "outputs": [],
   "source": [
    "model = Sequential()\n",
    "\n",
    "model.add(Dense(11,activation='sigmoid',input_dim=11))\n",
    "model.add(Dense(11,activation='sigmoid'))\n",
    "model.add(Dense(1,activation='sigmoid'))"
   ]
  },
  {
   "cell_type": "code",
   "execution_count": 14,
   "id": "dde00f7b",
   "metadata": {},
   "outputs": [
    {
     "name": "stdout",
     "output_type": "stream",
     "text": [
      "Model: \"sequential\"\n",
      "_________________________________________________________________\n",
      " Layer (type)                Output Shape              Param #   \n",
      "=================================================================\n",
      " dense (Dense)               (None, 11)                132       \n",
      "                                                                 \n",
      " dense_1 (Dense)             (None, 11)                132       \n",
      "                                                                 \n",
      " dense_2 (Dense)             (None, 1)                 12        \n",
      "                                                                 \n",
      "=================================================================\n",
      "Total params: 276\n",
      "Trainable params: 276\n",
      "Non-trainable params: 0\n",
      "_________________________________________________________________\n"
     ]
    }
   ],
   "source": [
    "model.summary()"
   ]
  },
  {
   "cell_type": "code",
   "execution_count": 15,
   "id": "0fdc635a",
   "metadata": {},
   "outputs": [],
   "source": [
    "model.compile(optimizer='Adam',loss='binary_crossentropy',metrics=['accuracy'])"
   ]
  },
  {
   "cell_type": "code",
   "execution_count": 16,
   "id": "7c41b0b1",
   "metadata": {},
   "outputs": [
    {
     "name": "stdout",
     "output_type": "stream",
     "text": [
      "Epoch 1/100\n",
      "128/128 [==============================] - 1s 4ms/step - loss: 0.6602 - accuracy: 0.5987 - val_loss: 0.5312 - val_accuracy: 0.7969\n",
      "Epoch 2/100\n",
      "128/128 [==============================] - 0s 2ms/step - loss: 0.5127 - accuracy: 0.7958 - val_loss: 0.5017 - val_accuracy: 0.7969\n",
      "Epoch 3/100\n",
      "128/128 [==============================] - 0s 3ms/step - loss: 0.5034 - accuracy: 0.7958 - val_loss: 0.4994 - val_accuracy: 0.7969\n",
      "Epoch 4/100\n",
      "128/128 [==============================] - 0s 2ms/step - loss: 0.5031 - accuracy: 0.7958 - val_loss: 0.4990 - val_accuracy: 0.7969\n",
      "Epoch 5/100\n",
      "128/128 [==============================] - 0s 2ms/step - loss: 0.5026 - accuracy: 0.7958 - val_loss: 0.4984 - val_accuracy: 0.7969\n",
      "Epoch 6/100\n",
      "128/128 [==============================] - 0s 2ms/step - loss: 0.5019 - accuracy: 0.7958 - val_loss: 0.4978 - val_accuracy: 0.7969\n",
      "Epoch 7/100\n",
      "128/128 [==============================] - 0s 2ms/step - loss: 0.5017 - accuracy: 0.7958 - val_loss: 0.4975 - val_accuracy: 0.7969\n",
      "Epoch 8/100\n",
      "128/128 [==============================] - 0s 2ms/step - loss: 0.5015 - accuracy: 0.7958 - val_loss: 0.4973 - val_accuracy: 0.7969\n",
      "Epoch 9/100\n",
      "128/128 [==============================] - 0s 3ms/step - loss: 0.5012 - accuracy: 0.7958 - val_loss: 0.4968 - val_accuracy: 0.7969\n",
      "Epoch 10/100\n",
      "128/128 [==============================] - 0s 3ms/step - loss: 0.5009 - accuracy: 0.7958 - val_loss: 0.4969 - val_accuracy: 0.7969\n",
      "Epoch 11/100\n",
      "128/128 [==============================] - 0s 2ms/step - loss: 0.5009 - accuracy: 0.7958 - val_loss: 0.4966 - val_accuracy: 0.7969\n",
      "Epoch 12/100\n",
      "128/128 [==============================] - 0s 2ms/step - loss: 0.5006 - accuracy: 0.7958 - val_loss: 0.4967 - val_accuracy: 0.7969\n",
      "Epoch 13/100\n",
      "128/128 [==============================] - 0s 2ms/step - loss: 0.5004 - accuracy: 0.7958 - val_loss: 0.4966 - val_accuracy: 0.7969\n",
      "Epoch 14/100\n",
      "128/128 [==============================] - 0s 2ms/step - loss: 0.5003 - accuracy: 0.7958 - val_loss: 0.4965 - val_accuracy: 0.7969\n",
      "Epoch 15/100\n",
      "128/128 [==============================] - 0s 2ms/step - loss: 0.5003 - accuracy: 0.7958 - val_loss: 0.4966 - val_accuracy: 0.7969\n",
      "Epoch 16/100\n",
      "128/128 [==============================] - 0s 2ms/step - loss: 0.5002 - accuracy: 0.7958 - val_loss: 0.4966 - val_accuracy: 0.7969\n",
      "Epoch 17/100\n",
      "128/128 [==============================] - 0s 2ms/step - loss: 0.5000 - accuracy: 0.7958 - val_loss: 0.4964 - val_accuracy: 0.7969\n",
      "Epoch 18/100\n",
      "128/128 [==============================] - 0s 2ms/step - loss: 0.5002 - accuracy: 0.7958 - val_loss: 0.4963 - val_accuracy: 0.7969\n",
      "Epoch 19/100\n",
      "128/128 [==============================] - 0s 2ms/step - loss: 0.4999 - accuracy: 0.7958 - val_loss: 0.4963 - val_accuracy: 0.7969\n",
      "Epoch 20/100\n",
      "128/128 [==============================] - 0s 2ms/step - loss: 0.5001 - accuracy: 0.7958 - val_loss: 0.4962 - val_accuracy: 0.7969\n",
      "Epoch 21/100\n",
      "128/128 [==============================] - 0s 2ms/step - loss: 0.4997 - accuracy: 0.7958 - val_loss: 0.4960 - val_accuracy: 0.7969\n",
      "Epoch 22/100\n",
      "128/128 [==============================] - 0s 2ms/step - loss: 0.4998 - accuracy: 0.7958 - val_loss: 0.4960 - val_accuracy: 0.7969\n",
      "Epoch 23/100\n",
      "128/128 [==============================] - 0s 2ms/step - loss: 0.4997 - accuracy: 0.7958 - val_loss: 0.4957 - val_accuracy: 0.7969\n",
      "Epoch 24/100\n",
      "128/128 [==============================] - 0s 2ms/step - loss: 0.4996 - accuracy: 0.7958 - val_loss: 0.4959 - val_accuracy: 0.7969\n",
      "Epoch 25/100\n",
      "128/128 [==============================] - 0s 3ms/step - loss: 0.4999 - accuracy: 0.7958 - val_loss: 0.4959 - val_accuracy: 0.7969\n",
      "Epoch 26/100\n",
      "128/128 [==============================] - 0s 3ms/step - loss: 0.4998 - accuracy: 0.7958 - val_loss: 0.4954 - val_accuracy: 0.7969\n",
      "Epoch 27/100\n",
      "128/128 [==============================] - 0s 2ms/step - loss: 0.4999 - accuracy: 0.7958 - val_loss: 0.4954 - val_accuracy: 0.7969\n",
      "Epoch 28/100\n",
      "128/128 [==============================] - 0s 2ms/step - loss: 0.4998 - accuracy: 0.7958 - val_loss: 0.4953 - val_accuracy: 0.7969\n",
      "Epoch 29/100\n",
      "128/128 [==============================] - 0s 2ms/step - loss: 0.5000 - accuracy: 0.7958 - val_loss: 0.4953 - val_accuracy: 0.7969\n",
      "Epoch 30/100\n",
      "128/128 [==============================] - 0s 2ms/step - loss: 0.4995 - accuracy: 0.7958 - val_loss: 0.4957 - val_accuracy: 0.7969\n",
      "Epoch 31/100\n",
      "128/128 [==============================] - 0s 2ms/step - loss: 0.4997 - accuracy: 0.7958 - val_loss: 0.4956 - val_accuracy: 0.7969\n",
      "Epoch 32/100\n",
      "128/128 [==============================] - 0s 3ms/step - loss: 0.4996 - accuracy: 0.7958 - val_loss: 0.4959 - val_accuracy: 0.7969\n",
      "Epoch 33/100\n",
      "128/128 [==============================] - 0s 4ms/step - loss: 0.4996 - accuracy: 0.7958 - val_loss: 0.4956 - val_accuracy: 0.7969\n",
      "Epoch 34/100\n",
      "128/128 [==============================] - 0s 4ms/step - loss: 0.4995 - accuracy: 0.7958 - val_loss: 0.4955 - val_accuracy: 0.7969\n",
      "Epoch 35/100\n",
      "128/128 [==============================] - 0s 3ms/step - loss: 0.4999 - accuracy: 0.7958 - val_loss: 0.4958 - val_accuracy: 0.7969\n",
      "Epoch 36/100\n",
      "128/128 [==============================] - 0s 3ms/step - loss: 0.5000 - accuracy: 0.7958 - val_loss: 0.4959 - val_accuracy: 0.7969\n",
      "Epoch 37/100\n",
      "128/128 [==============================] - 0s 3ms/step - loss: 0.4999 - accuracy: 0.7958 - val_loss: 0.4958 - val_accuracy: 0.7969\n",
      "Epoch 38/100\n",
      "128/128 [==============================] - 0s 2ms/step - loss: 0.5004 - accuracy: 0.7958 - val_loss: 0.4952 - val_accuracy: 0.7969\n",
      "Epoch 39/100\n",
      "128/128 [==============================] - 0s 2ms/step - loss: 0.5000 - accuracy: 0.7958 - val_loss: 0.4952 - val_accuracy: 0.7969\n",
      "Epoch 40/100\n",
      "128/128 [==============================] - 0s 2ms/step - loss: 0.4995 - accuracy: 0.7958 - val_loss: 0.4951 - val_accuracy: 0.7969\n",
      "Epoch 41/100\n",
      "128/128 [==============================] - 0s 2ms/step - loss: 0.4996 - accuracy: 0.7958 - val_loss: 0.4951 - val_accuracy: 0.7969\n",
      "Epoch 42/100\n",
      "128/128 [==============================] - 0s 2ms/step - loss: 0.4996 - accuracy: 0.7958 - val_loss: 0.4952 - val_accuracy: 0.7969\n",
      "Epoch 43/100\n",
      "128/128 [==============================] - 0s 2ms/step - loss: 0.4995 - accuracy: 0.7958 - val_loss: 0.4952 - val_accuracy: 0.7969\n",
      "Epoch 44/100\n",
      "128/128 [==============================] - 0s 2ms/step - loss: 0.4995 - accuracy: 0.7958 - val_loss: 0.4951 - val_accuracy: 0.7969\n",
      "Epoch 45/100\n",
      "128/128 [==============================] - 0s 2ms/step - loss: 0.4995 - accuracy: 0.7958 - val_loss: 0.4953 - val_accuracy: 0.7969\n",
      "Epoch 46/100\n",
      "128/128 [==============================] - 0s 2ms/step - loss: 0.4995 - accuracy: 0.7958 - val_loss: 0.4951 - val_accuracy: 0.7969\n",
      "Epoch 47/100\n",
      "128/128 [==============================] - 0s 2ms/step - loss: 0.4995 - accuracy: 0.7958 - val_loss: 0.4951 - val_accuracy: 0.7969\n",
      "Epoch 48/100\n",
      "128/128 [==============================] - 0s 2ms/step - loss: 0.4994 - accuracy: 0.7958 - val_loss: 0.4951 - val_accuracy: 0.7969\n",
      "Epoch 49/100\n",
      "128/128 [==============================] - 0s 2ms/step - loss: 0.4994 - accuracy: 0.7958 - val_loss: 0.4951 - val_accuracy: 0.7969\n",
      "Epoch 50/100\n",
      "128/128 [==============================] - 0s 2ms/step - loss: 0.4991 - accuracy: 0.7958 - val_loss: 0.4956 - val_accuracy: 0.7969\n",
      "Epoch 51/100\n",
      "128/128 [==============================] - 0s 2ms/step - loss: 0.4995 - accuracy: 0.7958 - val_loss: 0.4961 - val_accuracy: 0.7969\n",
      "Epoch 52/100\n",
      "128/128 [==============================] - 0s 2ms/step - loss: 0.4997 - accuracy: 0.7958 - val_loss: 0.4951 - val_accuracy: 0.7969\n",
      "Epoch 53/100\n",
      "128/128 [==============================] - 0s 2ms/step - loss: 0.4994 - accuracy: 0.7958 - val_loss: 0.4951 - val_accuracy: 0.7969\n",
      "Epoch 54/100\n",
      "128/128 [==============================] - 0s 2ms/step - loss: 0.4995 - accuracy: 0.7958 - val_loss: 0.4952 - val_accuracy: 0.7969\n",
      "Epoch 55/100\n",
      "128/128 [==============================] - 0s 2ms/step - loss: 0.4995 - accuracy: 0.7958 - val_loss: 0.4951 - val_accuracy: 0.7969\n",
      "Epoch 56/100\n",
      "128/128 [==============================] - 0s 2ms/step - loss: 0.4995 - accuracy: 0.7958 - val_loss: 0.4953 - val_accuracy: 0.7969\n",
      "Epoch 57/100\n",
      "128/128 [==============================] - 0s 3ms/step - loss: 0.4994 - accuracy: 0.7958 - val_loss: 0.4951 - val_accuracy: 0.7969\n"
     ]
    },
    {
     "name": "stdout",
     "output_type": "stream",
     "text": [
      "Epoch 58/100\n",
      "128/128 [==============================] - 0s 3ms/step - loss: 0.4994 - accuracy: 0.7958 - val_loss: 0.4950 - val_accuracy: 0.7969\n",
      "Epoch 59/100\n",
      "128/128 [==============================] - 0s 2ms/step - loss: 0.4995 - accuracy: 0.7958 - val_loss: 0.4950 - val_accuracy: 0.7969\n",
      "Epoch 60/100\n",
      "128/128 [==============================] - 0s 2ms/step - loss: 0.4994 - accuracy: 0.7958 - val_loss: 0.4958 - val_accuracy: 0.7969\n",
      "Epoch 61/100\n",
      "128/128 [==============================] - 0s 3ms/step - loss: 0.5001 - accuracy: 0.7958 - val_loss: 0.4951 - val_accuracy: 0.7969\n",
      "Epoch 62/100\n",
      "128/128 [==============================] - 0s 2ms/step - loss: 0.4998 - accuracy: 0.7958 - val_loss: 0.4949 - val_accuracy: 0.7969\n",
      "Epoch 63/100\n",
      "128/128 [==============================] - 0s 2ms/step - loss: 0.4994 - accuracy: 0.7958 - val_loss: 0.4951 - val_accuracy: 0.7969\n",
      "Epoch 64/100\n",
      "128/128 [==============================] - 0s 2ms/step - loss: 0.4994 - accuracy: 0.7958 - val_loss: 0.4951 - val_accuracy: 0.7969\n",
      "Epoch 65/100\n",
      "128/128 [==============================] - 0s 2ms/step - loss: 0.4993 - accuracy: 0.7958 - val_loss: 0.4951 - val_accuracy: 0.7969\n",
      "Epoch 66/100\n",
      "128/128 [==============================] - 0s 2ms/step - loss: 0.4991 - accuracy: 0.7958 - val_loss: 0.4953 - val_accuracy: 0.7969\n",
      "Epoch 67/100\n",
      "128/128 [==============================] - 0s 2ms/step - loss: 0.4992 - accuracy: 0.7958 - val_loss: 0.4952 - val_accuracy: 0.7969\n",
      "Epoch 68/100\n",
      "128/128 [==============================] - 0s 2ms/step - loss: 0.4993 - accuracy: 0.7958 - val_loss: 0.4951 - val_accuracy: 0.7969\n",
      "Epoch 69/100\n",
      "128/128 [==============================] - 0s 2ms/step - loss: 0.4992 - accuracy: 0.7958 - val_loss: 0.4951 - val_accuracy: 0.7969\n",
      "Epoch 70/100\n",
      "128/128 [==============================] - 0s 2ms/step - loss: 0.4991 - accuracy: 0.7958 - val_loss: 0.4951 - val_accuracy: 0.7969\n",
      "Epoch 71/100\n",
      "128/128 [==============================] - 0s 2ms/step - loss: 0.4992 - accuracy: 0.7958 - val_loss: 0.4951 - val_accuracy: 0.7969\n",
      "Epoch 72/100\n",
      "128/128 [==============================] - 0s 2ms/step - loss: 0.4992 - accuracy: 0.7958 - val_loss: 0.4953 - val_accuracy: 0.7969\n",
      "Epoch 73/100\n",
      "128/128 [==============================] - 0s 2ms/step - loss: 0.4992 - accuracy: 0.7958 - val_loss: 0.4952 - val_accuracy: 0.7969\n",
      "Epoch 74/100\n",
      "128/128 [==============================] - 0s 2ms/step - loss: 0.4990 - accuracy: 0.7958 - val_loss: 0.4951 - val_accuracy: 0.7969\n",
      "Epoch 75/100\n",
      "128/128 [==============================] - 0s 2ms/step - loss: 0.4993 - accuracy: 0.7958 - val_loss: 0.4947 - val_accuracy: 0.7969\n",
      "Epoch 76/100\n",
      "128/128 [==============================] - 0s 3ms/step - loss: 0.4992 - accuracy: 0.7958 - val_loss: 0.4950 - val_accuracy: 0.7969\n",
      "Epoch 77/100\n",
      "128/128 [==============================] - 0s 2ms/step - loss: 0.4990 - accuracy: 0.7958 - val_loss: 0.4951 - val_accuracy: 0.7969\n",
      "Epoch 78/100\n",
      "128/128 [==============================] - 0s 2ms/step - loss: 0.4992 - accuracy: 0.7958 - val_loss: 0.4949 - val_accuracy: 0.7969\n",
      "Epoch 79/100\n",
      "128/128 [==============================] - 0s 2ms/step - loss: 0.4990 - accuracy: 0.7958 - val_loss: 0.4949 - val_accuracy: 0.7969\n",
      "Epoch 80/100\n",
      "128/128 [==============================] - 0s 3ms/step - loss: 0.4992 - accuracy: 0.7958 - val_loss: 0.4952 - val_accuracy: 0.7969\n",
      "Epoch 81/100\n",
      "128/128 [==============================] - 1s 4ms/step - loss: 0.4989 - accuracy: 0.7958 - val_loss: 0.4947 - val_accuracy: 0.7969\n",
      "Epoch 82/100\n",
      "128/128 [==============================] - 0s 4ms/step - loss: 0.4992 - accuracy: 0.7958 - val_loss: 0.4948 - val_accuracy: 0.7969\n",
      "Epoch 83/100\n",
      "128/128 [==============================] - 0s 4ms/step - loss: 0.4989 - accuracy: 0.7958 - val_loss: 0.4948 - val_accuracy: 0.7969\n",
      "Epoch 84/100\n",
      "128/128 [==============================] - 0s 2ms/step - loss: 0.4991 - accuracy: 0.7958 - val_loss: 0.4950 - val_accuracy: 0.7969\n",
      "Epoch 85/100\n",
      "128/128 [==============================] - 0s 2ms/step - loss: 0.4990 - accuracy: 0.7958 - val_loss: 0.4948 - val_accuracy: 0.7969\n",
      "Epoch 86/100\n",
      "128/128 [==============================] - 0s 3ms/step - loss: 0.4990 - accuracy: 0.7958 - val_loss: 0.4948 - val_accuracy: 0.7969\n",
      "Epoch 87/100\n",
      "128/128 [==============================] - 0s 2ms/step - loss: 0.4992 - accuracy: 0.7958 - val_loss: 0.4951 - val_accuracy: 0.7969\n",
      "Epoch 88/100\n",
      "128/128 [==============================] - 0s 2ms/step - loss: 0.4991 - accuracy: 0.7958 - val_loss: 0.4951 - val_accuracy: 0.7969\n",
      "Epoch 89/100\n",
      "128/128 [==============================] - 0s 2ms/step - loss: 0.4991 - accuracy: 0.7958 - val_loss: 0.4949 - val_accuracy: 0.7969\n",
      "Epoch 90/100\n",
      "128/128 [==============================] - 0s 2ms/step - loss: 0.4991 - accuracy: 0.7958 - val_loss: 0.4948 - val_accuracy: 0.7969\n",
      "Epoch 91/100\n",
      "128/128 [==============================] - 0s 2ms/step - loss: 0.4990 - accuracy: 0.7958 - val_loss: 0.4948 - val_accuracy: 0.7969\n",
      "Epoch 92/100\n",
      "128/128 [==============================] - 0s 2ms/step - loss: 0.4989 - accuracy: 0.7958 - val_loss: 0.4952 - val_accuracy: 0.7969\n",
      "Epoch 93/100\n",
      "128/128 [==============================] - 0s 3ms/step - loss: 0.4992 - accuracy: 0.7958 - val_loss: 0.4946 - val_accuracy: 0.7969\n",
      "Epoch 94/100\n",
      "128/128 [==============================] - 0s 3ms/step - loss: 0.4987 - accuracy: 0.7958 - val_loss: 0.4953 - val_accuracy: 0.7969\n",
      "Epoch 95/100\n",
      "128/128 [==============================] - 0s 2ms/step - loss: 0.4990 - accuracy: 0.7958 - val_loss: 0.4949 - val_accuracy: 0.7969\n",
      "Epoch 96/100\n",
      "128/128 [==============================] - 0s 2ms/step - loss: 0.4989 - accuracy: 0.7958 - val_loss: 0.4949 - val_accuracy: 0.7969\n",
      "Epoch 97/100\n",
      "128/128 [==============================] - 0s 2ms/step - loss: 0.4990 - accuracy: 0.7958 - val_loss: 0.4949 - val_accuracy: 0.7969\n",
      "Epoch 98/100\n",
      "128/128 [==============================] - 0s 2ms/step - loss: 0.4989 - accuracy: 0.7958 - val_loss: 0.4949 - val_accuracy: 0.7969\n",
      "Epoch 99/100\n",
      "128/128 [==============================] - 0s 2ms/step - loss: 0.4990 - accuracy: 0.7958 - val_loss: 0.4949 - val_accuracy: 0.7969\n",
      "Epoch 100/100\n",
      "128/128 [==============================] - 0s 2ms/step - loss: 0.4988 - accuracy: 0.7958 - val_loss: 0.4951 - val_accuracy: 0.7969\n"
     ]
    }
   ],
   "source": [
    "history = model.fit(X_train,y_train,batch_size=50,epochs=100,verbose=1,validation_split=0.2)"
   ]
  },
  {
   "cell_type": "code",
   "execution_count": 17,
   "id": "9e747dfd",
   "metadata": {},
   "outputs": [
    {
     "name": "stdout",
     "output_type": "stream",
     "text": [
      "63/63 [==============================] - 0s 1ms/step\n"
     ]
    }
   ],
   "source": [
    "y_pred = model.predict(X_test)"
   ]
  },
  {
   "cell_type": "code",
   "execution_count": 18,
   "id": "7064b97a",
   "metadata": {},
   "outputs": [],
   "source": [
    "y_pred = y_pred.argmax(axis=-1)"
   ]
  },
  {
   "cell_type": "code",
   "execution_count": 19,
   "id": "80b34497",
   "metadata": {},
   "outputs": [
    {
     "data": {
      "text/plain": [
       "0.7975"
      ]
     },
     "execution_count": 19,
     "metadata": {},
     "output_type": "execute_result"
    }
   ],
   "source": [
    "from sklearn.metrics import accuracy_score\n",
    "accuracy_score(y_test,y_pred)"
   ]
  },
  {
   "cell_type": "code",
   "execution_count": 20,
   "id": "f9340a42",
   "metadata": {},
   "outputs": [
    {
     "data": {
      "text/plain": [
       "[<matplotlib.lines.Line2D at 0x21d86fdddf0>]"
      ]
     },
     "execution_count": 20,
     "metadata": {},
     "output_type": "execute_result"
    },
    {
     "data": {
      "image/png": "[encoded data removed]",
      "text/plain": [
       "<Figure size 640x480 with 1 Axes>"
      ]
     },
     "metadata": {},
     "output_type": "display_data"
    }
   ],
   "source": [
    "import matplotlib.pyplot as plt\n",
    "\n",
    "plt.plot(history.history['loss'])\n",
    "plt.plot(history.history['val_loss'])"
   ]
  },
  {
   "cell_type": "code",
   "execution_count": 21,
   "id": "49c6d3f4",
   "metadata": {},
   "outputs": [
    {
     "data": {
      "text/plain": [
       "[<matplotlib.lines.Line2D at 0x21d8702e670>]"
      ]
     },
     "execution_count": 21,
     "metadata": {},
     "output_type": "execute_result"
    },
    {
     "data": {
      "image/png": "[encoded data removed]",
      "text/plain": [
       "<Figure size 640x480 with 1 Axes>"
      ]
     },
     "metadata": {},
     "output_type": "display_data"
    }
   ],
   "source": [
    "plt.plot(history.history['accuracy'])\n",
    "plt.plot(history.history['val_accuracy'])"
   ]
  },
  {
   "cell_type": "code",
   "execution_count": null,
   "id": "660636c5",
   "metadata": {},
   "outputs": [],
   "source": []
  }
 ],
 "metadata": {
  "kernelspec": {
   "display_name": "Python 3 (ipykernel)",
   "language": "python",
   "name": "python3"
  },
  "language_info": {
   "codemirror_mode": {
    "name": "ipython",
    "version": 3
   },
   "file_extension": ".py",
   "mimetype": "text/x-python",
   "name": "python",
   "nbconvert_exporter": "python",
   "pygments_lexer": "ipython3",
   "version": "3.9.16"
  }
 },
 "nbformat": 4,
 "nbformat_minor": 5
}
